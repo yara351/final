{
 "cells": [
  {
   "cell_type": "code",
   "execution_count": 1,
   "id": "b7d273e0",
   "metadata": {
    "execution": {
     "iopub.execute_input": "2022-10-20T06:33:48.957688Z",
     "iopub.status.busy": "2022-10-20T06:33:48.956804Z",
     "iopub.status.idle": "2022-10-20T06:33:55.127945Z",
     "shell.execute_reply": "2022-10-20T06:33:55.126562Z"
    },
    "papermill": {
     "duration": 6.185087,
     "end_time": "2022-10-20T06:33:55.131067",
     "exception": false,
     "start_time": "2022-10-20T06:33:48.945980",
     "status": "completed"
    },
    "tags": []
   },
   "outputs": [],
   "source": [
    "import numpy as np \n",
    "import pandas as pd\n",
    "import matplotlib.pyplot as plt\n",
    "import tensorflow as tf\n",
    "import keras \n",
    "from keras.layers import Dense\n",
    "import json \n",
    "import re\n",
    "import string\n",
    "from sklearn.feature_extraction.text import TfidfVectorizer\n",
    "import unicodedata\n",
    "from sklearn.model_selection import train_test_split"
   ]
  },
  {
   "cell_type": "code",
   "execution_count": 2,
   "id": "4d6e88b4",
   "metadata": {
    "execution": {
     "iopub.execute_input": "2022-10-20T06:33:55.148531Z",
     "iopub.status.busy": "2022-10-20T06:33:55.147872Z",
     "iopub.status.idle": "2022-10-20T06:33:55.168587Z",
     "shell.execute_reply": "2022-10-20T06:33:55.167440Z"
    },
    "papermill": {
     "duration": 0.031448,
     "end_time": "2022-10-20T06:33:55.170814",
     "exception": false,
     "start_time": "2022-10-20T06:33:55.139366",
     "status": "completed"
    },
    "tags": []
   },
   "outputs": [
    {
     "name": "stdout",
     "output_type": "stream",
     "text": [
      "True\n"
     ]
    }
   ],
   "source": [
    "question  =[]\n",
    "answer = []\n",
    "with open(\"../input/simple-dialogs-for-chatbot/dialogs.txt\",'r') as f :\n",
    "    for line in f :\n",
    "        line  =  line.split('\\t')\n",
    "        question.append(line[0])\n",
    "        answer.append(line[1])\n",
    "print(len(question) == len(answer))"
   ]
  },
  {
   "cell_type": "code",
   "execution_count": 3,
   "id": "9387cd3c",
   "metadata": {
    "execution": {
     "iopub.execute_input": "2022-10-20T06:33:55.188350Z",
     "iopub.status.busy": "2022-10-20T06:33:55.187321Z",
     "iopub.status.idle": "2022-10-20T06:33:55.195807Z",
     "shell.execute_reply": "2022-10-20T06:33:55.194876Z"
    },
    "papermill": {
     "duration": 0.019436,
     "end_time": "2022-10-20T06:33:55.197796",
     "exception": false,
     "start_time": "2022-10-20T06:33:55.178360",
     "status": "completed"
    },
    "tags": []
   },
   "outputs": [
    {
     "data": {
      "text/plain": [
       "['hi, how are you doing?',\n",
       " \"i'm fine. how about yourself?\",\n",
       " \"i'm pretty good. thanks for asking.\",\n",
       " 'no problem. so how have you been?',\n",
       " \"i've been great. what about you?\"]"
      ]
     },
     "execution_count": 3,
     "metadata": {},
     "output_type": "execute_result"
    }
   ],
   "source": [
    "question[:5]"
   ]
  },
  {
   "cell_type": "code",
   "execution_count": 4,
   "id": "546f10e6",
   "metadata": {
    "execution": {
     "iopub.execute_input": "2022-10-20T06:33:55.214525Z",
     "iopub.status.busy": "2022-10-20T06:33:55.214259Z",
     "iopub.status.idle": "2022-10-20T06:33:55.220099Z",
     "shell.execute_reply": "2022-10-20T06:33:55.219125Z"
    },
    "papermill": {
     "duration": 0.016308,
     "end_time": "2022-10-20T06:33:55.222070",
     "exception": false,
     "start_time": "2022-10-20T06:33:55.205762",
     "status": "completed"
    },
    "tags": []
   },
   "outputs": [
    {
     "data": {
      "text/plain": [
       "[\"i'm fine. how about yourself?\\n\",\n",
       " \"i'm pretty good. thanks for asking.\\n\",\n",
       " 'no problem. so how have you been?\\n',\n",
       " \"i've been great. what about you?\\n\",\n",
       " \"i've been good. i'm in school right now.\\n\"]"
      ]
     },
     "execution_count": 4,
     "metadata": {},
     "output_type": "execute_result"
    }
   ],
   "source": [
    "answer[:5]"
   ]
  },
  {
   "cell_type": "code",
   "execution_count": 5,
   "id": "baf27fca",
   "metadata": {
    "execution": {
     "iopub.execute_input": "2022-10-20T06:33:55.238545Z",
     "iopub.status.busy": "2022-10-20T06:33:55.238006Z",
     "iopub.status.idle": "2022-10-20T06:33:55.243682Z",
     "shell.execute_reply": "2022-10-20T06:33:55.242862Z"
    },
    "papermill": {
     "duration": 0.01589,
     "end_time": "2022-10-20T06:33:55.245606",
     "exception": false,
     "start_time": "2022-10-20T06:33:55.229716",
     "status": "completed"
    },
    "tags": []
   },
   "outputs": [],
   "source": [
    "answer = [ i.replace(\"\\n\",\"\") for i in answer]"
   ]
  },
  {
   "cell_type": "code",
   "execution_count": 6,
   "id": "15b87c1a",
   "metadata": {
    "execution": {
     "iopub.execute_input": "2022-10-20T06:33:55.263733Z",
     "iopub.status.busy": "2022-10-20T06:33:55.262829Z",
     "iopub.status.idle": "2022-10-20T06:33:55.269564Z",
     "shell.execute_reply": "2022-10-20T06:33:55.268635Z"
    },
    "papermill": {
     "duration": 0.016903,
     "end_time": "2022-10-20T06:33:55.271474",
     "exception": false,
     "start_time": "2022-10-20T06:33:55.254571",
     "status": "completed"
    },
    "tags": []
   },
   "outputs": [
    {
     "data": {
      "text/plain": [
       "[\"i'm fine. how about yourself?\",\n",
       " \"i'm pretty good. thanks for asking.\",\n",
       " 'no problem. so how have you been?',\n",
       " \"i've been great. what about you?\",\n",
       " \"i've been good. i'm in school right now.\"]"
      ]
     },
     "execution_count": 6,
     "metadata": {},
     "output_type": "execute_result"
    }
   ],
   "source": [
    "answer[:5]"
   ]
  },
  {
   "cell_type": "code",
   "execution_count": 7,
   "id": "428e0849",
   "metadata": {
    "execution": {
     "iopub.execute_input": "2022-10-20T06:33:55.288435Z",
     "iopub.status.busy": "2022-10-20T06:33:55.287525Z",
     "iopub.status.idle": "2022-10-20T06:33:55.306596Z",
     "shell.execute_reply": "2022-10-20T06:33:55.305648Z"
    },
    "papermill": {
     "duration": 0.029658,
     "end_time": "2022-10-20T06:33:55.308785",
     "exception": false,
     "start_time": "2022-10-20T06:33:55.279127",
     "status": "completed"
    },
    "tags": []
   },
   "outputs": [
    {
     "data": {
      "text/html": [
       "<div>\n",
       "<style scoped>\n",
       "    .dataframe tbody tr th:only-of-type {\n",
       "        vertical-align: middle;\n",
       "    }\n",
       "\n",
       "    .dataframe tbody tr th {\n",
       "        vertical-align: top;\n",
       "    }\n",
       "\n",
       "    .dataframe thead th {\n",
       "        text-align: right;\n",
       "    }\n",
       "</style>\n",
       "<table border=\"1\" class=\"dataframe\">\n",
       "  <thead>\n",
       "    <tr style=\"text-align: right;\">\n",
       "      <th></th>\n",
       "      <th>question</th>\n",
       "      <th>answer</th>\n",
       "    </tr>\n",
       "  </thead>\n",
       "  <tbody>\n",
       "    <tr>\n",
       "      <th>0</th>\n",
       "      <td>hi, how are you doing?</td>\n",
       "      <td>i'm fine. how about yourself?</td>\n",
       "    </tr>\n",
       "    <tr>\n",
       "      <th>1</th>\n",
       "      <td>i'm fine. how about yourself?</td>\n",
       "      <td>i'm pretty good. thanks for asking.</td>\n",
       "    </tr>\n",
       "    <tr>\n",
       "      <th>2</th>\n",
       "      <td>i'm pretty good. thanks for asking.</td>\n",
       "      <td>no problem. so how have you been?</td>\n",
       "    </tr>\n",
       "    <tr>\n",
       "      <th>3</th>\n",
       "      <td>no problem. so how have you been?</td>\n",
       "      <td>i've been great. what about you?</td>\n",
       "    </tr>\n",
       "    <tr>\n",
       "      <th>4</th>\n",
       "      <td>i've been great. what about you?</td>\n",
       "      <td>i've been good. i'm in school right now.</td>\n",
       "    </tr>\n",
       "  </tbody>\n",
       "</table>\n",
       "</div>"
      ],
      "text/plain": [
       "                              question  \\\n",
       "0               hi, how are you doing?   \n",
       "1        i'm fine. how about yourself?   \n",
       "2  i'm pretty good. thanks for asking.   \n",
       "3    no problem. so how have you been?   \n",
       "4     i've been great. what about you?   \n",
       "\n",
       "                                     answer  \n",
       "0             i'm fine. how about yourself?  \n",
       "1       i'm pretty good. thanks for asking.  \n",
       "2         no problem. so how have you been?  \n",
       "3          i've been great. what about you?  \n",
       "4  i've been good. i'm in school right now.  "
      ]
     },
     "execution_count": 7,
     "metadata": {},
     "output_type": "execute_result"
    }
   ],
   "source": [
    "data = pd.DataFrame({\"question\" : question ,\"answer\":answer})\n",
    "data.head()"
   ]
  },
  {
   "cell_type": "code",
   "execution_count": 8,
   "id": "6b61432d",
   "metadata": {
    "execution": {
     "iopub.execute_input": "2022-10-20T06:33:55.325731Z",
     "iopub.status.busy": "2022-10-20T06:33:55.324955Z",
     "iopub.status.idle": "2022-10-20T06:33:55.330012Z",
     "shell.execute_reply": "2022-10-20T06:33:55.329235Z"
    },
    "papermill": {
     "duration": 0.015387,
     "end_time": "2022-10-20T06:33:55.331928",
     "exception": false,
     "start_time": "2022-10-20T06:33:55.316541",
     "status": "completed"
    },
    "tags": []
   },
   "outputs": [],
   "source": [
    "def unicode_to_ascii(s):\n",
    "    return ''.join(c for c in unicodedata.normalize('NFD', s)\n",
    "      if unicodedata.category(c) != 'Mn')"
   ]
  },
  {
   "cell_type": "code",
   "execution_count": 9,
   "id": "7adbd6e1",
   "metadata": {
    "execution": {
     "iopub.execute_input": "2022-10-20T06:33:55.349060Z",
     "iopub.status.busy": "2022-10-20T06:33:55.348801Z",
     "iopub.status.idle": "2022-10-20T06:33:55.358421Z",
     "shell.execute_reply": "2022-10-20T06:33:55.357618Z"
    },
    "papermill": {
     "duration": 0.020234,
     "end_time": "2022-10-20T06:33:55.360294",
     "exception": false,
     "start_time": "2022-10-20T06:33:55.340060",
     "status": "completed"
    },
    "tags": []
   },
   "outputs": [],
   "source": [
    "def clean_text(text):\n",
    "    text = unicode_to_ascii(text.lower().strip())\n",
    "    text = re.sub(r\"i'm\", \"i am\", text)\n",
    "    text = re.sub(r\"\\r\", \"\", text)\n",
    "    text = re.sub(r\"he's\", \"he is\", text)\n",
    "    text = re.sub(r\"she's\", \"she is\", text)\n",
    "    text = re.sub(r\"it's\", \"it is\", text)\n",
    "    text = re.sub(r\"that's\", \"that is\", text)\n",
    "    text = re.sub(r\"what's\", \"that is\", text)\n",
    "    text = re.sub(r\"where's\", \"where is\", text)\n",
    "    text = re.sub(r\"how's\", \"how is\", text)\n",
    "    text = re.sub(r\"\\'ll\", \" will\", text)\n",
    "    text = re.sub(r\"\\'ve\", \" have\", text)\n",
    "    text = re.sub(r\"\\'re\", \" are\", text)\n",
    "    text = re.sub(r\"\\'d\", \" would\", text)\n",
    "    text = re.sub(r\"\\'re\", \" are\", text)\n",
    "    text = re.sub(r\"won't\", \"will not\", text)\n",
    "    text = re.sub(r\"can't\", \"cannot\", text)\n",
    "    text = re.sub(r\"n't\", \" not\", text)\n",
    "    text = re.sub(r\"n'\", \"ng\", text)\n",
    "    text = re.sub(r\"'bout\", \"about\", text)\n",
    "    text = re.sub(r\"'til\", \"until\", text)\n",
    "    text = re.sub(r\"[-()\\\"#/@;:<>{}`+=~|.!?,]\", \"\", text)\n",
    "    text = text.translate(str.maketrans('', '', string.punctuation)) \n",
    "    text = re.sub(\"(\\\\W)\",\" \",text) \n",
    "    text = re.sub('\\S*\\d\\S*\\s*','', text)\n",
    "    text =  \"<sos> \" +  text + \" <eos>\"\n",
    "    return text\n",
    "    "
   ]
  },
  {
   "cell_type": "code",
   "execution_count": 10,
   "id": "6a1da839",
   "metadata": {
    "execution": {
     "iopub.execute_input": "2022-10-20T06:33:55.377452Z",
     "iopub.status.busy": "2022-10-20T06:33:55.376665Z",
     "iopub.status.idle": "2022-10-20T06:33:55.384867Z",
     "shell.execute_reply": "2022-10-20T06:33:55.383994Z"
    },
    "papermill": {
     "duration": 0.018636,
     "end_time": "2022-10-20T06:33:55.386803",
     "exception": false,
     "start_time": "2022-10-20T06:33:55.368167",
     "status": "completed"
    },
    "tags": []
   },
   "outputs": [
    {
     "data": {
      "text/plain": [
       "'hi, how are you doing?'"
      ]
     },
     "execution_count": 10,
     "metadata": {},
     "output_type": "execute_result"
    }
   ],
   "source": [
    "data[\"question\"][0]"
   ]
  },
  {
   "cell_type": "code",
   "execution_count": 11,
   "id": "1e2819c3",
   "metadata": {
    "execution": {
     "iopub.execute_input": "2022-10-20T06:33:55.404305Z",
     "iopub.status.busy": "2022-10-20T06:33:55.403522Z",
     "iopub.status.idle": "2022-10-20T06:33:55.555251Z",
     "shell.execute_reply": "2022-10-20T06:33:55.554277Z"
    },
    "papermill": {
     "duration": 0.162984,
     "end_time": "2022-10-20T06:33:55.557816",
     "exception": false,
     "start_time": "2022-10-20T06:33:55.394832",
     "status": "completed"
    },
    "tags": []
   },
   "outputs": [],
   "source": [
    "data[\"question\"] = data.question.apply(clean_text)"
   ]
  },
  {
   "cell_type": "code",
   "execution_count": 12,
   "id": "a6ba6a3f",
   "metadata": {
    "execution": {
     "iopub.execute_input": "2022-10-20T06:33:55.575937Z",
     "iopub.status.busy": "2022-10-20T06:33:55.575615Z",
     "iopub.status.idle": "2022-10-20T06:33:55.582319Z",
     "shell.execute_reply": "2022-10-20T06:33:55.581388Z"
    },
    "papermill": {
     "duration": 0.018357,
     "end_time": "2022-10-20T06:33:55.584389",
     "exception": false,
     "start_time": "2022-10-20T06:33:55.566032",
     "status": "completed"
    },
    "tags": []
   },
   "outputs": [
    {
     "data": {
      "text/plain": [
       "'<sos> hi how are you doing <eos>'"
      ]
     },
     "execution_count": 12,
     "metadata": {},
     "output_type": "execute_result"
    }
   ],
   "source": [
    "data[\"question\"][0]"
   ]
  },
  {
   "cell_type": "code",
   "execution_count": 13,
   "id": "9e90cb7e",
   "metadata": {
    "execution": {
     "iopub.execute_input": "2022-10-20T06:33:55.601815Z",
     "iopub.status.busy": "2022-10-20T06:33:55.601536Z",
     "iopub.status.idle": "2022-10-20T06:33:55.757314Z",
     "shell.execute_reply": "2022-10-20T06:33:55.756266Z"
    },
    "papermill": {
     "duration": 0.167143,
     "end_time": "2022-10-20T06:33:55.759828",
     "exception": false,
     "start_time": "2022-10-20T06:33:55.592685",
     "status": "completed"
    },
    "tags": []
   },
   "outputs": [],
   "source": [
    "data[\"answer\"] = data.answer.apply(clean_text)"
   ]
  },
  {
   "cell_type": "code",
   "execution_count": 14,
   "id": "a834d432",
   "metadata": {
    "execution": {
     "iopub.execute_input": "2022-10-20T06:33:55.778052Z",
     "iopub.status.busy": "2022-10-20T06:33:55.777729Z",
     "iopub.status.idle": "2022-10-20T06:33:55.784144Z",
     "shell.execute_reply": "2022-10-20T06:33:55.783182Z"
    },
    "papermill": {
     "duration": 0.017801,
     "end_time": "2022-10-20T06:33:55.786138",
     "exception": false,
     "start_time": "2022-10-20T06:33:55.768337",
     "status": "completed"
    },
    "tags": []
   },
   "outputs": [],
   "source": [
    "question  = data.question.values.tolist()\n",
    "answer =  data.answer.values.tolist()"
   ]
  },
  {
   "cell_type": "code",
   "execution_count": 15,
   "id": "2c0079f0",
   "metadata": {
    "execution": {
     "iopub.execute_input": "2022-10-20T06:33:55.803513Z",
     "iopub.status.busy": "2022-10-20T06:33:55.803233Z",
     "iopub.status.idle": "2022-10-20T06:33:55.808381Z",
     "shell.execute_reply": "2022-10-20T06:33:55.807273Z"
    },
    "papermill": {
     "duration": 0.016024,
     "end_time": "2022-10-20T06:33:55.810427",
     "exception": false,
     "start_time": "2022-10-20T06:33:55.794403",
     "status": "completed"
    },
    "tags": []
   },
   "outputs": [],
   "source": [
    "def tokenize(lang):\n",
    "    lang_tokenizer = tf.keras.preprocessing.text.Tokenizer(\n",
    "      filters='')\n",
    "    lang_tokenizer.fit_on_texts(lang)\n",
    "    tensor = lang_tokenizer.texts_to_sequences(lang)\n",
    "\n",
    "    tensor = tf.keras.preprocessing.sequence.pad_sequences(tensor,\n",
    "                                                         padding='post')\n",
    "\n",
    "    return tensor, lang_tokenizer"
   ]
  },
  {
   "cell_type": "code",
   "execution_count": 16,
   "id": "7c35776c",
   "metadata": {
    "execution": {
     "iopub.execute_input": "2022-10-20T06:33:55.827924Z",
     "iopub.status.busy": "2022-10-20T06:33:55.827146Z",
     "iopub.status.idle": "2022-10-20T06:33:56.179815Z",
     "shell.execute_reply": "2022-10-20T06:33:56.178836Z"
    },
    "papermill": {
     "duration": 0.363997,
     "end_time": "2022-10-20T06:33:56.182402",
     "exception": false,
     "start_time": "2022-10-20T06:33:55.818405",
     "status": "completed"
    },
    "tags": []
   },
   "outputs": [],
   "source": [
    "input_tensor , inp_lang  =  tokenize(question)\n"
   ]
  },
  {
   "cell_type": "code",
   "execution_count": 17,
   "id": "25a8eda1",
   "metadata": {
    "execution": {
     "iopub.execute_input": "2022-10-20T06:33:56.200638Z",
     "iopub.status.busy": "2022-10-20T06:33:56.199756Z",
     "iopub.status.idle": "2022-10-20T06:33:56.271763Z",
     "shell.execute_reply": "2022-10-20T06:33:56.270839Z"
    },
    "papermill": {
     "duration": 0.083249,
     "end_time": "2022-10-20T06:33:56.273961",
     "exception": false,
     "start_time": "2022-10-20T06:33:56.190712",
     "status": "completed"
    },
    "tags": []
   },
   "outputs": [],
   "source": [
    "target_tensor , targ_lang  =  tokenize(answer)"
   ]
  },
  {
   "cell_type": "code",
   "execution_count": 18,
   "id": "78f009f0",
   "metadata": {
    "execution": {
     "iopub.execute_input": "2022-10-20T06:33:56.291761Z",
     "iopub.status.busy": "2022-10-20T06:33:56.291456Z",
     "iopub.status.idle": "2022-10-20T06:33:56.295707Z",
     "shell.execute_reply": "2022-10-20T06:33:56.294670Z"
    },
    "papermill": {
     "duration": 0.015615,
     "end_time": "2022-10-20T06:33:56.297999",
     "exception": false,
     "start_time": "2022-10-20T06:33:56.282384",
     "status": "completed"
    },
    "tags": []
   },
   "outputs": [],
   "source": [
    " #len(inp_question) ==  len(inp_answer)"
   ]
  },
  {
   "cell_type": "code",
   "execution_count": 19,
   "id": "aea929c7",
   "metadata": {
    "execution": {
     "iopub.execute_input": "2022-10-20T06:33:56.315554Z",
     "iopub.status.busy": "2022-10-20T06:33:56.314761Z",
     "iopub.status.idle": "2022-10-20T06:33:56.319761Z",
     "shell.execute_reply": "2022-10-20T06:33:56.318916Z"
    },
    "papermill": {
     "duration": 0.015765,
     "end_time": "2022-10-20T06:33:56.321746",
     "exception": false,
     "start_time": "2022-10-20T06:33:56.305981",
     "status": "completed"
    },
    "tags": []
   },
   "outputs": [],
   "source": [
    "def remove_tags(sentence):\n",
    "    return sentence.split(\"<start>\")[-1].split(\"<end>\")[0]"
   ]
  },
  {
   "cell_type": "code",
   "execution_count": 20,
   "id": "26da0c81",
   "metadata": {
    "execution": {
     "iopub.execute_input": "2022-10-20T06:33:56.339384Z",
     "iopub.status.busy": "2022-10-20T06:33:56.338588Z",
     "iopub.status.idle": "2022-10-20T06:33:56.344174Z",
     "shell.execute_reply": "2022-10-20T06:33:56.343340Z"
    },
    "papermill": {
     "duration": 0.016371,
     "end_time": "2022-10-20T06:33:56.346099",
     "exception": false,
     "start_time": "2022-10-20T06:33:56.329728",
     "status": "completed"
    },
    "tags": []
   },
   "outputs": [],
   "source": [
    "max_length_targ, max_length_inp = target_tensor.shape[1], input_tensor.shape[1]\n"
   ]
  },
  {
   "cell_type": "code",
   "execution_count": 21,
   "id": "00263b1a",
   "metadata": {
    "execution": {
     "iopub.execute_input": "2022-10-20T06:33:56.363605Z",
     "iopub.status.busy": "2022-10-20T06:33:56.362909Z",
     "iopub.status.idle": "2022-10-20T06:33:56.369537Z",
     "shell.execute_reply": "2022-10-20T06:33:56.368713Z"
    },
    "papermill": {
     "duration": 0.017402,
     "end_time": "2022-10-20T06:33:56.371408",
     "exception": false,
     "start_time": "2022-10-20T06:33:56.354006",
     "status": "completed"
    },
    "tags": []
   },
   "outputs": [],
   "source": [
    "# Creating training and validation sets using an 80-20 split\n",
    "input_tensor_train, input_tensor_val, target_tensor_train, target_tensor_val = train_test_split(input_tensor, target_tensor, test_size=0.2)"
   ]
  },
  {
   "cell_type": "code",
   "execution_count": 22,
   "id": "71285268",
   "metadata": {
    "execution": {
     "iopub.execute_input": "2022-10-20T06:33:56.388500Z",
     "iopub.status.busy": "2022-10-20T06:33:56.388223Z",
     "iopub.status.idle": "2022-10-20T06:33:56.392146Z",
     "shell.execute_reply": "2022-10-20T06:33:56.391277Z"
    },
    "papermill": {
     "duration": 0.014637,
     "end_time": "2022-10-20T06:33:56.394041",
     "exception": false,
     "start_time": "2022-10-20T06:33:56.379404",
     "status": "completed"
    },
    "tags": []
   },
   "outputs": [],
   "source": [
    "#print(len(train_inp) , len(val_inp) , len(train_target) , len(val_target))"
   ]
  },
  {
   "cell_type": "code",
   "execution_count": 23,
   "id": "de811500",
   "metadata": {
    "execution": {
     "iopub.execute_input": "2022-10-20T06:33:56.411454Z",
     "iopub.status.busy": "2022-10-20T06:33:56.410696Z",
     "iopub.status.idle": "2022-10-20T06:33:59.880064Z",
     "shell.execute_reply": "2022-10-20T06:33:59.879167Z"
    },
    "papermill": {
     "duration": 3.479997,
     "end_time": "2022-10-20T06:33:59.882024",
     "exception": false,
     "start_time": "2022-10-20T06:33:56.402027",
     "status": "completed"
    },
    "tags": []
   },
   "outputs": [
    {
     "name": "stderr",
     "output_type": "stream",
     "text": [
      "2022-10-20 06:33:56.495284: I tensorflow/stream_executor/cuda/cuda_gpu_executor.cc:937] successful NUMA node read from SysFS had negative value (-1), but there must be at least one NUMA node, so returning NUMA node zero\n",
      "2022-10-20 06:33:56.619975: I tensorflow/stream_executor/cuda/cuda_gpu_executor.cc:937] successful NUMA node read from SysFS had negative value (-1), but there must be at least one NUMA node, so returning NUMA node zero\n",
      "2022-10-20 06:33:56.620805: I tensorflow/stream_executor/cuda/cuda_gpu_executor.cc:937] successful NUMA node read from SysFS had negative value (-1), but there must be at least one NUMA node, so returning NUMA node zero\n",
      "2022-10-20 06:33:56.624402: I tensorflow/core/platform/cpu_feature_guard.cc:142] This TensorFlow binary is optimized with oneAPI Deep Neural Network Library (oneDNN) to use the following CPU instructions in performance-critical operations:  AVX2 AVX512F FMA\n",
      "To enable them in other operations, rebuild TensorFlow with the appropriate compiler flags.\n",
      "2022-10-20 06:33:56.624816: I tensorflow/stream_executor/cuda/cuda_gpu_executor.cc:937] successful NUMA node read from SysFS had negative value (-1), but there must be at least one NUMA node, so returning NUMA node zero\n",
      "2022-10-20 06:33:56.625829: I tensorflow/stream_executor/cuda/cuda_gpu_executor.cc:937] successful NUMA node read from SysFS had negative value (-1), but there must be at least one NUMA node, so returning NUMA node zero\n",
      "2022-10-20 06:33:56.626693: I tensorflow/stream_executor/cuda/cuda_gpu_executor.cc:937] successful NUMA node read from SysFS had negative value (-1), but there must be at least one NUMA node, so returning NUMA node zero\n",
      "2022-10-20 06:33:59.460823: I tensorflow/stream_executor/cuda/cuda_gpu_executor.cc:937] successful NUMA node read from SysFS had negative value (-1), but there must be at least one NUMA node, so returning NUMA node zero\n",
      "2022-10-20 06:33:59.461762: I tensorflow/stream_executor/cuda/cuda_gpu_executor.cc:937] successful NUMA node read from SysFS had negative value (-1), but there must be at least one NUMA node, so returning NUMA node zero\n",
      "2022-10-20 06:33:59.462456: I tensorflow/stream_executor/cuda/cuda_gpu_executor.cc:937] successful NUMA node read from SysFS had negative value (-1), but there must be at least one NUMA node, so returning NUMA node zero\n",
      "2022-10-20 06:33:59.463056: I tensorflow/core/common_runtime/gpu/gpu_device.cc:1510] Created device /job:localhost/replica:0/task:0/device:GPU:0 with 15401 MB memory:  -> device: 0, name: Tesla P100-PCIE-16GB, pci bus id: 0000:00:04.0, compute capability: 6.0\n"
     ]
    },
    {
     "data": {
      "text/plain": [
       "(TensorShape([64, 22]), TensorShape([64, 22]))"
      ]
     },
     "execution_count": 23,
     "metadata": {},
     "output_type": "execute_result"
    }
   ],
   "source": [
    "BUFFER_SIZE = len(input_tensor_train)\n",
    "BATCH_SIZE = 64\n",
    "steps_per_epoch = len(input_tensor_train)//BATCH_SIZE\n",
    "embedding_dim = 256\n",
    "units = 1024\n",
    "vocab_inp_size = len(inp_lang.word_index)+1\n",
    "vocab_tar_size = len(targ_lang.word_index)+1\n",
    "\n",
    "dataset = tf.data.Dataset.from_tensor_slices((input_tensor_train, target_tensor_train)).shuffle(BUFFER_SIZE)\n",
    "dataset = dataset.batch(BATCH_SIZE, drop_remainder=True)\n",
    "\n",
    "example_input_batch, example_target_batch = next(iter(dataset))\n",
    "example_input_batch.shape, example_target_batch.shape"
   ]
  },
  {
   "cell_type": "code",
   "execution_count": 24,
   "id": "f1dd7c9b",
   "metadata": {
    "execution": {
     "iopub.execute_input": "2022-10-20T06:33:59.901105Z",
     "iopub.status.busy": "2022-10-20T06:33:59.899599Z",
     "iopub.status.idle": "2022-10-20T06:33:59.907020Z",
     "shell.execute_reply": "2022-10-20T06:33:59.906177Z"
    },
    "papermill": {
     "duration": 0.018398,
     "end_time": "2022-10-20T06:33:59.909019",
     "exception": false,
     "start_time": "2022-10-20T06:33:59.890621",
     "status": "completed"
    },
    "tags": []
   },
   "outputs": [],
   "source": [
    "class Encoder(tf.keras.Model):\n",
    "    def __init__(self, vocab_size, embedding_dim, enc_units, batch_sz):\n",
    "        super(Encoder, self).__init__()\n",
    "        self.batch_sz = batch_sz\n",
    "        self.enc_units = enc_units\n",
    "        self.embedding = tf.keras.layers.Embedding(vocab_size, embedding_dim)\n",
    "        self.gru = tf.keras.layers.GRU(self.enc_units,\n",
    "                                       return_sequences=True,\n",
    "                                       return_state=True,\n",
    "                                       recurrent_initializer='glorot_uniform')\n",
    "\n",
    "    def call(self, x,hidden):\n",
    "        x = self.embedding(x)\n",
    "        output, state = self.gru(x, initial_state = hidden)\n",
    "        return output, state\n",
    "    \n",
    "    def initialize_hidden_state(self):\n",
    "        return tf.zeros((self.batch_sz, self.enc_units))"
   ]
  },
  {
   "cell_type": "code",
   "execution_count": 25,
   "id": "8bb6da2f",
   "metadata": {
    "execution": {
     "iopub.execute_input": "2022-10-20T06:33:59.926534Z",
     "iopub.status.busy": "2022-10-20T06:33:59.925919Z",
     "iopub.status.idle": "2022-10-20T06:34:01.074607Z",
     "shell.execute_reply": "2022-10-20T06:34:01.073111Z"
    },
    "papermill": {
     "duration": 1.160381,
     "end_time": "2022-10-20T06:34:01.077477",
     "exception": false,
     "start_time": "2022-10-20T06:33:59.917096",
     "status": "completed"
    },
    "tags": []
   },
   "outputs": [
    {
     "name": "stderr",
     "output_type": "stream",
     "text": [
      "2022-10-20 06:34:00.854919: I tensorflow/stream_executor/cuda/cuda_dnn.cc:369] Loaded cuDNN version 8005\n"
     ]
    },
    {
     "name": "stdout",
     "output_type": "stream",
     "text": [
      "Encoder output shape: (batch size, sequence length, units) (64, 22, 1024)\n",
      "Encoder Hidden state shape: (batch size, units) (64, 1024)\n"
     ]
    }
   ],
   "source": [
    "encoder = Encoder(vocab_inp_size, embedding_dim, units, BATCH_SIZE)\n",
    "\n",
    "# sample input\n",
    "sample_hidden = encoder.initialize_hidden_state()\n",
    "sample_output, sample_hidden = encoder(example_input_batch, sample_hidden)\n",
    "print ('Encoder output shape: (batch size, sequence length, units) {}'.format(sample_output.shape))\n",
    "print ('Encoder Hidden state shape: (batch size, units) {}'.format(sample_hidden.shape))"
   ]
  },
  {
   "cell_type": "code",
   "execution_count": 26,
   "id": "3ee6f51c",
   "metadata": {
    "execution": {
     "iopub.execute_input": "2022-10-20T06:34:01.096879Z",
     "iopub.status.busy": "2022-10-20T06:34:01.096019Z",
     "iopub.status.idle": "2022-10-20T06:34:01.104347Z",
     "shell.execute_reply": "2022-10-20T06:34:01.103506Z"
    },
    "papermill": {
     "duration": 0.019525,
     "end_time": "2022-10-20T06:34:01.106230",
     "exception": false,
     "start_time": "2022-10-20T06:34:01.086705",
     "status": "completed"
    },
    "tags": []
   },
   "outputs": [],
   "source": [
    "class BahdanauAttention(tf.keras.layers.Layer):\n",
    "    def __init__(self, units):\n",
    "        super(BahdanauAttention, self).__init__()\n",
    "        self.W1 = tf.keras.layers.Dense(units)\n",
    "        self.W2 = tf.keras.layers.Dense(units)\n",
    "        self.V = tf.keras.layers.Dense(1)\n",
    "\n",
    "    def call(self, query, values):\n",
    "        # query hidden state shape == (batch_size, hidden size)\n",
    "        # query_with_time_axis shape == (batch_size, 1, hidden size)\n",
    "        # values shape == (batch_size, max_len, hidden size)\n",
    "        # we are doing this to broadcast addition along the time axis to calculate the score\n",
    "        query_with_time_axis = tf.expand_dims(query, 1)\n",
    "\n",
    "        # score shape == (batch_size, max_length, 1)\n",
    "        # we get 1 at the last axis because we are applying score to self.V\n",
    "        # the shape of the tensor before applying self.V is (batch_size, max_length, units)\n",
    "        score = self.V(tf.nn.tanh(\n",
    "            self.W1(query_with_time_axis) + self.W2(values)))\n",
    "\n",
    "        # attention_weights shape == (batch_size, max_length, 1)\n",
    "        attention_weights = tf.nn.softmax(score, axis=1)\n",
    "\n",
    "        # context_vector shape after sum == (batch_size, hidden_size)\n",
    "        context_vector = attention_weights * values\n",
    "        context_vector = tf.reduce_sum(context_vector, axis=1)\n",
    "\n",
    "        return context_vector, attention_weights"
   ]
  },
  {
   "cell_type": "code",
   "execution_count": 27,
   "id": "ae21de21",
   "metadata": {
    "execution": {
     "iopub.execute_input": "2022-10-20T06:34:01.127259Z",
     "iopub.status.busy": "2022-10-20T06:34:01.126397Z",
     "iopub.status.idle": "2022-10-20T06:34:02.085082Z",
     "shell.execute_reply": "2022-10-20T06:34:02.083884Z"
    },
    "papermill": {
     "duration": 0.973174,
     "end_time": "2022-10-20T06:34:02.087930",
     "exception": false,
     "start_time": "2022-10-20T06:34:01.114756",
     "status": "completed"
    },
    "tags": []
   },
   "outputs": [
    {
     "name": "stdout",
     "output_type": "stream",
     "text": [
      "Attention result shape: (batch size, units) (64, 1024)\n",
      "Attention weights shape: (batch_size, sequence_length, 1) (64, 22, 1)\n"
     ]
    }
   ],
   "source": [
    "attention_layer = BahdanauAttention(10)\n",
    "attention_result, attention_weights = attention_layer(sample_hidden, sample_output)\n",
    "\n",
    "print(\"Attention result shape: (batch size, units) {}\".format(attention_result.shape))\n",
    "print(\"Attention weights shape: (batch_size, sequence_length, 1) {}\".format(attention_weights.shape))"
   ]
  },
  {
   "cell_type": "code",
   "execution_count": 28,
   "id": "371a0b3a",
   "metadata": {
    "execution": {
     "iopub.execute_input": "2022-10-20T06:34:02.106908Z",
     "iopub.status.busy": "2022-10-20T06:34:02.106588Z",
     "iopub.status.idle": "2022-10-20T06:34:02.115066Z",
     "shell.execute_reply": "2022-10-20T06:34:02.114206Z"
    },
    "papermill": {
     "duration": 0.019887,
     "end_time": "2022-10-20T06:34:02.117088",
     "exception": false,
     "start_time": "2022-10-20T06:34:02.097201",
     "status": "completed"
    },
    "tags": []
   },
   "outputs": [],
   "source": [
    "class Decoder(tf.keras.Model):\n",
    "    def __init__(self, vocab_size, embedding_dim, dec_units, batch_sz):\n",
    "        super(Decoder, self).__init__()\n",
    "        self.batch_sz = batch_sz\n",
    "        self.dec_units = dec_units\n",
    "        self.embedding = tf.keras.layers.Embedding(vocab_size, embedding_dim)\n",
    "        self.gru = tf.keras.layers.GRU(self.dec_units,\n",
    "                                       return_sequences=True,\n",
    "                                       return_state=True,\n",
    "                                       recurrent_initializer='glorot_uniform')\n",
    "        self.fc = tf.keras.layers.Dense(vocab_size)\n",
    "\n",
    "        # used for attention\n",
    "        self.attention = BahdanauAttention(self.dec_units)\n",
    "\n",
    "    def call(self, x, hidden, enc_output):\n",
    "        # enc_output shape == (batch_size, max_length, hidden_size)\n",
    "        context_vector, attention_weights = self.attention(hidden, enc_output)\n",
    "\n",
    "        # x shape after passing through embedding == (batch_size, 1, embedding_dim)\n",
    "        x = self.embedding(x)\n",
    "\n",
    "        # x shape after concatenation == (batch_size, 1, embedding_dim + hidden_size)\n",
    "        x = tf.concat([tf.expand_dims(context_vector, 1), x], axis=-1)\n",
    "\n",
    "        # passing the concatenated vector to the GRU\n",
    "        output, state = self.gru(x)\n",
    "\n",
    "        # output shape == (batch_size * 1, hidden_size)\n",
    "        output = tf.reshape(output, (-1, output.shape[2]))\n",
    "\n",
    "        # output shape == (batch_size, vocab)\n",
    "        x = self.fc(output)\n",
    "\n",
    "        return x, state, attention_weights\n"
   ]
  },
  {
   "cell_type": "code",
   "execution_count": 29,
   "id": "25ca5b2d",
   "metadata": {
    "execution": {
     "iopub.execute_input": "2022-10-20T06:34:02.150511Z",
     "iopub.status.busy": "2022-10-20T06:34:02.149642Z",
     "iopub.status.idle": "2022-10-20T06:34:02.223366Z",
     "shell.execute_reply": "2022-10-20T06:34:02.221665Z"
    },
    "papermill": {
     "duration": 0.101654,
     "end_time": "2022-10-20T06:34:02.226994",
     "exception": false,
     "start_time": "2022-10-20T06:34:02.125340",
     "status": "completed"
    },
    "tags": []
   },
   "outputs": [
    {
     "name": "stdout",
     "output_type": "stream",
     "text": [
      "Decoder output shape: (batch_size, vocab size) (64, 2347)\n"
     ]
    }
   ],
   "source": [
    "decoder = Decoder(vocab_tar_size, embedding_dim, units, BATCH_SIZE)\n",
    "\n",
    "sample_decoder_output, _, _ = decoder(tf.random.uniform((BATCH_SIZE, 1)),\n",
    "                                      sample_hidden, sample_output)\n",
    "\n",
    "print ('Decoder output shape: (batch_size, vocab size) {}'.format(sample_decoder_output.shape))"
   ]
  },
  {
   "cell_type": "code",
   "execution_count": 30,
   "id": "718c0057",
   "metadata": {
    "execution": {
     "iopub.execute_input": "2022-10-20T06:34:02.259109Z",
     "iopub.status.busy": "2022-10-20T06:34:02.258778Z",
     "iopub.status.idle": "2022-10-20T06:34:02.269096Z",
     "shell.execute_reply": "2022-10-20T06:34:02.268157Z"
    },
    "papermill": {
     "duration": 0.026671,
     "end_time": "2022-10-20T06:34:02.271722",
     "exception": false,
     "start_time": "2022-10-20T06:34:02.245051",
     "status": "completed"
    },
    "tags": []
   },
   "outputs": [],
   "source": [
    "optimizer = tf.keras.optimizers.Adam()\n",
    "loss_object = tf.keras.losses.SparseCategoricalCrossentropy(\n",
    "    from_logits=True, reduction='none')\n",
    "\n",
    "def loss_function(real, pred):\n",
    "    mask = tf.math.logical_not(tf.math.equal(real, 0))\n",
    "    loss_ = loss_object(real, pred)\n",
    "\n",
    "    mask = tf.cast(mask, dtype=loss_.dtype)\n",
    "    loss_ *= mask\n",
    "\n",
    "    return tf.reduce_mean(loss_)"
   ]
  },
  {
   "cell_type": "code",
   "execution_count": 31,
   "id": "69a70cc4",
   "metadata": {
    "execution": {
     "iopub.execute_input": "2022-10-20T06:34:02.298841Z",
     "iopub.status.busy": "2022-10-20T06:34:02.298466Z",
     "iopub.status.idle": "2022-10-20T06:34:02.310318Z",
     "shell.execute_reply": "2022-10-20T06:34:02.309457Z"
    },
    "papermill": {
     "duration": 0.028334,
     "end_time": "2022-10-20T06:34:02.312819",
     "exception": false,
     "start_time": "2022-10-20T06:34:02.284485",
     "status": "completed"
    },
    "tags": []
   },
   "outputs": [],
   "source": [
    "@tf.function\n",
    "def train_step(inp, targ, enc_hidden):\n",
    "    loss = 0\n",
    "\n",
    "    with tf.GradientTape() as tape:\n",
    "        enc_output, enc_hidden = encoder(inp, enc_hidden)\n",
    "\n",
    "        dec_hidden = enc_hidden\n",
    "\n",
    "        dec_input = tf.expand_dims([targ_lang.word_index['<sos>']] * BATCH_SIZE, 1)\n",
    "\n",
    "        # Teacher forcing - feeding the target as the next input\n",
    "        for t in range(1, targ.shape[1]):\n",
    "            # passing enc_output to the decoder\n",
    "            predictions, dec_hidden, _ = decoder(dec_input, dec_hidden, enc_output)\n",
    "\n",
    "            loss += loss_function(targ[:, t], predictions)\n",
    "\n",
    "            # using teacher forcing\n",
    "            dec_input = tf.expand_dims(targ[:, t], 1)\n",
    "\n",
    "    batch_loss = (loss / int(targ.shape[1]))\n",
    "\n",
    "    variables = encoder.trainable_variables + decoder.trainable_variables\n",
    "\n",
    "    gradients = tape.gradient(loss, variables)\n",
    "\n",
    "    optimizer.apply_gradients(zip(gradients, variables))\n",
    "\n",
    "    return batch_loss"
   ]
  },
  {
   "cell_type": "code",
   "execution_count": 32,
   "id": "1a78ec23",
   "metadata": {
    "execution": {
     "iopub.execute_input": "2022-10-20T06:34:02.339162Z",
     "iopub.status.busy": "2022-10-20T06:34:02.338831Z",
     "iopub.status.idle": "2022-10-20T06:37:37.983934Z",
     "shell.execute_reply": "2022-10-20T06:37:37.982928Z"
    },
    "papermill": {
     "duration": 215.660754,
     "end_time": "2022-10-20T06:37:37.986182",
     "exception": false,
     "start_time": "2022-10-20T06:34:02.325428",
     "status": "completed"
    },
    "tags": []
   },
   "outputs": [
    {
     "name": "stderr",
     "output_type": "stream",
     "text": [
      "2022-10-20 06:34:22.115124: I tensorflow/compiler/mlir/mlir_graph_optimization_pass.cc:185] None of the MLIR Optimization Passes are enabled (registered 2)\n"
     ]
    },
    {
     "name": "stdout",
     "output_type": "stream",
     "text": [
      "Epoch:  4 Loss:1.5734\n",
      "Epoch:  8 Loss:1.3385\n",
      "Epoch: 12 Loss:1.1549\n",
      "Epoch: 16 Loss:0.9987\n",
      "Epoch: 20 Loss:0.8251\n",
      "Epoch: 24 Loss:0.6379\n",
      "Epoch: 28 Loss:0.4403\n",
      "Epoch: 32 Loss:0.2550\n",
      "Epoch: 36 Loss:0.1160\n",
      "Epoch: 40 Loss:0.0544\n"
     ]
    }
   ],
   "source": [
    "EPOCHS = 40\n",
    "\n",
    "for epoch in range(1, EPOCHS + 1):\n",
    "    enc_hidden = encoder.initialize_hidden_state()\n",
    "    total_loss = 0\n",
    "\n",
    "    for (batch, (inp, targ)) in enumerate(dataset.take(steps_per_epoch)):\n",
    "        batch_loss = train_step(inp, targ, enc_hidden)\n",
    "        total_loss += batch_loss\n",
    "\n",
    "    if(epoch % 4 == 0):\n",
    "        print('Epoch:{:3d} Loss:{:.4f}'.format(epoch,\n",
    "                                          total_loss / steps_per_epoch))"
   ]
  },
  {
   "cell_type": "code",
   "execution_count": 33,
   "id": "5077e14a",
   "metadata": {
    "execution": {
     "iopub.execute_input": "2022-10-20T06:37:38.006557Z",
     "iopub.status.busy": "2022-10-20T06:37:38.006166Z",
     "iopub.status.idle": "2022-10-20T06:37:38.016444Z",
     "shell.execute_reply": "2022-10-20T06:37:38.015279Z"
    },
    "papermill": {
     "duration": 0.023199,
     "end_time": "2022-10-20T06:37:38.018855",
     "exception": false,
     "start_time": "2022-10-20T06:37:37.995656",
     "status": "completed"
    },
    "tags": []
   },
   "outputs": [],
   "source": [
    "def evaluate(sentence):\n",
    "    sentence = clean_text(sentence)\n",
    "\n",
    "    inputs = [inp_lang.word_index[i] for i in sentence.split(' ')]\n",
    "    inputs = tf.keras.preprocessing.sequence.pad_sequences([inputs],\n",
    "                                                         maxlen=max_length_inp,\n",
    "                                                         padding='post')\n",
    "    inputs = tf.convert_to_tensor(inputs)\n",
    "\n",
    "    result = ''\n",
    "\n",
    "    hidden = [tf.zeros((1, units))]\n",
    "    enc_out, enc_hidden = encoder(inputs, hidden)\n",
    "\n",
    "    dec_hidden = enc_hidden\n",
    "    dec_input = tf.expand_dims([targ_lang.word_index['<sos>']], 0)\n",
    "\n",
    "    for t in range(max_length_targ):\n",
    "        predictions, dec_hidden, attention_weights = decoder(dec_input,\n",
    "                                                             dec_hidden,\n",
    "                                                             enc_out)\n",
    "\n",
    "        # storing the attention weights to plot later on\n",
    "        attention_weights = tf.reshape(attention_weights, (-1, ))\n",
    "\n",
    "        predicted_id = tf.argmax(predictions[0]).numpy()\n",
    "\n",
    "        result += targ_lang.index_word[predicted_id] + ' '\n",
    "\n",
    "        if targ_lang.index_word[predicted_id] == '<eos>':\n",
    "            return remove_tags(result), remove_tags(sentence)\n",
    "\n",
    "        # the predicted ID is fed back into the model\n",
    "        dec_input = tf.expand_dims([predicted_id], 0)\n",
    "\n",
    "    return remove_tags(result), remove_tags(sentence)"
   ]
  },
  {
   "cell_type": "code",
   "execution_count": 34,
   "id": "a324ef3b",
   "metadata": {
    "execution": {
     "iopub.execute_input": "2022-10-20T06:37:38.041519Z",
     "iopub.status.busy": "2022-10-20T06:37:38.041149Z",
     "iopub.status.idle": "2022-10-20T06:37:38.053737Z",
     "shell.execute_reply": "2022-10-20T06:37:38.052258Z"
    },
    "papermill": {
     "duration": 0.026386,
     "end_time": "2022-10-20T06:37:38.055982",
     "exception": false,
     "start_time": "2022-10-20T06:37:38.029596",
     "status": "completed"
    },
    "tags": []
   },
   "outputs": [
    {
     "name": "stdout",
     "output_type": "stream",
     "text": [
      "True\n"
     ]
    }
   ],
   "source": [
    "questions  =[]\n",
    "answers = []\n",
    "with open(\"../input/simple-dialogs-for-chatbot/dialogs.txt\",'r') as f :\n",
    "    for line in f :\n",
    "        line  =  line.split('\\t')\n",
    "        questions.append(line[0])\n",
    "        answers.append(line[1])\n",
    "print(len(question) == len(answer))"
   ]
  },
  {
   "cell_type": "code",
   "execution_count": 35,
   "id": "8d5e0f3f",
   "metadata": {
    "execution": {
     "iopub.execute_input": "2022-10-20T06:37:38.078766Z",
     "iopub.status.busy": "2022-10-20T06:37:38.077848Z",
     "iopub.status.idle": "2022-10-20T06:37:38.151328Z",
     "shell.execute_reply": "2022-10-20T06:37:38.150255Z"
    },
    "papermill": {
     "duration": 0.087163,
     "end_time": "2022-10-20T06:37:38.153615",
     "exception": false,
     "start_time": "2022-10-20T06:37:38.066452",
     "status": "completed"
    },
    "tags": []
   },
   "outputs": [
    {
     "name": "stdout",
     "output_type": "stream",
     "text": [
      "Question: <sos> i believe so <eos>\n",
      "Predicted answer: good good you are hot <eos> \n"
     ]
    }
   ],
   "source": [
    "def ask(sentence):\n",
    "    result, sentence = evaluate(sentence)\n",
    "\n",
    "    print('Question: %s' % (sentence))\n",
    "    print('Predicted answer: {}'.format(result))\n",
    "ask(questions[100])"
   ]
  },
  {
   "cell_type": "code",
   "execution_count": 36,
   "id": "f7d32cf3",
   "metadata": {
    "execution": {
     "iopub.execute_input": "2022-10-20T06:37:38.177246Z",
     "iopub.status.busy": "2022-10-20T06:37:38.176265Z",
     "iopub.status.idle": "2022-10-20T06:37:38.283700Z",
     "shell.execute_reply": "2022-10-20T06:37:38.282470Z"
    },
    "papermill": {
     "duration": 0.122305,
     "end_time": "2022-10-20T06:37:38.286906",
     "exception": false,
     "start_time": "2022-10-20T06:37:38.164601",
     "status": "completed"
    },
    "tags": []
   },
   "outputs": [
    {
     "name": "stdout",
     "output_type": "stream",
     "text": [
      "Question: <sos> i wish it would cool off one day <eos>\n",
      "Predicted answer: that is how i feel i want winter to come soon <eos> \n"
     ]
    }
   ],
   "source": [
    "ask(questions[50])"
   ]
  },
  {
   "cell_type": "code",
   "execution_count": 37,
   "id": "5b2aef46",
   "metadata": {
    "execution": {
     "iopub.execute_input": "2022-10-20T06:37:38.312117Z",
     "iopub.status.busy": "2022-10-20T06:37:38.310465Z",
     "iopub.status.idle": "2022-10-20T06:37:38.317893Z",
     "shell.execute_reply": "2022-10-20T06:37:38.316479Z"
    },
    "papermill": {
     "duration": 0.022162,
     "end_time": "2022-10-20T06:37:38.320827",
     "exception": false,
     "start_time": "2022-10-20T06:37:38.298665",
     "status": "completed"
    },
    "tags": []
   },
   "outputs": [
    {
     "name": "stdout",
     "output_type": "stream",
     "text": [
      "that's how i feel, i want winter to come soon.\n",
      "\n"
     ]
    }
   ],
   "source": [
    "print(answers[50])"
   ]
  },
  {
   "cell_type": "code",
   "execution_count": null,
   "id": "3d4a1f9e",
   "metadata": {
    "papermill": {
     "duration": 0.01029,
     "end_time": "2022-10-20T06:37:38.341929",
     "exception": false,
     "start_time": "2022-10-20T06:37:38.331639",
     "status": "completed"
    },
    "tags": []
   },
   "outputs": [],
   "source": []
  }
 ],
 "metadata": {
  "kernelspec": {
   "display_name": "Python 3",
   "language": "python",
   "name": "python3"
  },
  "language_info": {
   "codemirror_mode": {
    "name": "ipython",
    "version": 3
   },
   "file_extension": ".py",
   "mimetype": "text/x-python",
   "name": "python",
   "nbconvert_exporter": "python",
   "pygments_lexer": "ipython3",
   "version": "3.7.12"
  },
  "papermill": {
   "default_parameters": {},
   "duration": 240.731076,
   "end_time": "2022-10-20T06:37:41.450530",
   "environment_variables": {},
   "exception": null,
   "input_path": "__notebook__.ipynb",
   "output_path": "__notebook__.ipynb",
   "parameters": {},
   "start_time": "2022-10-20T06:33:40.719454",
   "version": "2.3.4"
  }
 },
 "nbformat": 4,
 "nbformat_minor": 5
}
